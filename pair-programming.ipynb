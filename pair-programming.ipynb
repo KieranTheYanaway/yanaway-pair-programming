{
 "cells": [
  {
   "cell_type": "code",
   "execution_count": 2,
   "id": "dd7f6541-adad-4f89-b49d-f2bbb0b95caf",
   "metadata": {},
   "outputs": [],
   "source": [
    "import math\n"
   ]
  },
  {
   "cell_type": "code",
   "execution_count": 9,
   "id": "6f90c658-f2fa-4be9-b409-630c3fe2e8cd",
   "metadata": {},
   "outputs": [],
   "source": [
    "def polar_to_cartesian(angle, radius, a_type=\"deg\"):\n",
    "    if a_type != \"rad\":\n",
    "        angle *= math.pi\n",
    "        angle /= 180\n",
    "    x_coord = math.cos(angle) * radius\n",
    "    y_coord = math.sin(angle) * radius\n",
    "    return (x_coord, y_coord)"
   ]
  },
  {
   "cell_type": "code",
   "execution_count": 10,
   "id": "d6f22a3b-f789-4491-898c-93f9dcbcb34f",
   "metadata": {},
   "outputs": [
    {
     "data": {
      "text/plain": [
       "(1.0000000000000002, 1.7320508075688772)"
      ]
     },
     "execution_count": 10,
     "metadata": {},
     "output_type": "execute_result"
    }
   ],
   "source": [
    "polar_to_cartesian(60, 2, \"deg\")"
   ]
  },
  {
   "cell_type": "code",
   "execution_count": 13,
   "id": "416a3a32-bba8-4a0c-a6a9-ae0c81d3b912",
   "metadata": {},
   "outputs": [
    {
     "data": {
      "text/plain": [
       "'def imperial_to_metric(feet, inches):\\n    meters = feet * 0.3048\\n    centimeters = inches * 2.54 / 100\\n    return meters + centimeters\\n'"
      ]
     },
     "execution_count": 13,
     "metadata": {},
     "output_type": "execute_result"
    }
   ],
   "source": [
    "\"\"\"def imperial_to_metric(feet, inches):\n",
    "    meters = feet * 0.3048\n",
    "    centimeters = inches * 2.54 / 100\n",
    "    return meters + centimeters\n",
    "\"\"\""
   ]
  },
  {
   "cell_type": "code",
   "execution_count": 16,
   "id": "0f3a28f4-ed23-4c1d-ae16-79406f11b783",
   "metadata": {},
   "outputs": [],
   "source": [
    "#imperial_to_metric(5, 9)"
   ]
  },
  {
   "cell_type": "code",
   "execution_count": 15,
   "id": "121cb1cc-aae4-411c-a0e1-05e7068d6066",
   "metadata": {},
   "outputs": [
    {
     "data": {
      "text/plain": [
       "'def scale_values(data):\\n    data += np.min(data)\\n    data /= np.max(data)\\n    return data\\n'"
      ]
     },
     "execution_count": 15,
     "metadata": {},
     "output_type": "execute_result"
    }
   ],
   "source": [
    "\"\"\"def scale_values(data):\n",
    "    data += np.min(data)\n",
    "    data /= np.max(data)\n",
    "    return data\n",
    "\"\"\""
   ]
  },
  {
   "cell_type": "code",
   "execution_count": null,
   "id": "ebc449f3-87db-4fd4-951e-24dbe61f0681",
   "metadata": {},
   "outputs": [],
   "source": []
  }
 ],
 "metadata": {
  "kernelspec": {
   "display_name": "Python 3 (ipykernel)",
   "language": "python",
   "name": "python3"
  },
  "language_info": {
   "codemirror_mode": {
    "name": "ipython",
    "version": 3
   },
   "file_extension": ".py",
   "mimetype": "text/x-python",
   "name": "python",
   "nbconvert_exporter": "python",
   "pygments_lexer": "ipython3",
   "version": "3.9.13"
  }
 },
 "nbformat": 4,
 "nbformat_minor": 5
}
